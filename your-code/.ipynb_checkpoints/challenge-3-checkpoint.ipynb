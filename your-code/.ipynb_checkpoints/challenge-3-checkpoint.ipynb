{
 "cells": [
  {
   "cell_type": "markdown",
   "metadata": {},
   "source": [
    "# Challenge 3\n",
    "\n",
    "In this challenge we will work on the `Orders` data set. In your work you will apply the thinking process and workflow we showed you in Challenge 2.\n",
    "\n",
    "You are serving as a Business Intelligence Analyst at the headquarter of an international fashion goods chain store. Your boss today asked you to do two things for her:\n",
    "\n",
    "**First, identify two groups of customers from the data set.** The first group is **VIP Customers** whose **aggregated expenses** at your global chain stores are **above the 95th percentile** (aka. 0.95 quantile). The second group is **Preferred Customers** whose **aggregated expenses** are **between the 75th and 95th percentile**.\n",
    "\n",
    "**Second, identify which country has the most of your VIP customers, and which country has the most of your VIP+Preferred Customers combined.**"
   ]
  },
  {
   "cell_type": "markdown",
   "metadata": {},
   "source": [
    "## Q1: How to identify VIP & Preferred Customers?\n",
    "\n",
    "We start by importing all the required libraries:"
   ]
  },
  {
   "cell_type": "code",
   "execution_count": 2,
   "metadata": {},
   "outputs": [],
   "source": [
    "# import required libraries\n",
    "import numpy as np\n",
    "import pandas as pd"
   ]
  },
  {
   "cell_type": "markdown",
   "metadata": {},
   "source": [
    "Next, extract and import `Orders` dataset into a dataframe variable called `orders`. Print the head of `orders` to overview the data:"
   ]
  },
  {
   "cell_type": "code",
   "execution_count": 4,
   "metadata": {},
   "outputs": [
    {
     "data": {
      "text/html": [
       "<div>\n",
       "<style scoped>\n",
       "    .dataframe tbody tr th:only-of-type {\n",
       "        vertical-align: middle;\n",
       "    }\n",
       "\n",
       "    .dataframe tbody tr th {\n",
       "        vertical-align: top;\n",
       "    }\n",
       "\n",
       "    .dataframe thead th {\n",
       "        text-align: right;\n",
       "    }\n",
       "</style>\n",
       "<table border=\"1\" class=\"dataframe\">\n",
       "  <thead>\n",
       "    <tr style=\"text-align: right;\">\n",
       "      <th></th>\n",
       "      <th>Unnamed: 0</th>\n",
       "      <th>InvoiceNo</th>\n",
       "      <th>StockCode</th>\n",
       "      <th>year</th>\n",
       "      <th>month</th>\n",
       "      <th>day</th>\n",
       "      <th>hour</th>\n",
       "      <th>Description</th>\n",
       "      <th>Quantity</th>\n",
       "      <th>InvoiceDate</th>\n",
       "      <th>UnitPrice</th>\n",
       "      <th>CustomerID</th>\n",
       "      <th>Country</th>\n",
       "      <th>amount_spent</th>\n",
       "    </tr>\n",
       "  </thead>\n",
       "  <tbody>\n",
       "    <tr>\n",
       "      <th>0</th>\n",
       "      <td>0</td>\n",
       "      <td>536365</td>\n",
       "      <td>85123A</td>\n",
       "      <td>2010</td>\n",
       "      <td>12</td>\n",
       "      <td>3</td>\n",
       "      <td>8</td>\n",
       "      <td>white hanging heart t-light holder</td>\n",
       "      <td>6</td>\n",
       "      <td>2010-12-01 08:26:00</td>\n",
       "      <td>2.55</td>\n",
       "      <td>17850</td>\n",
       "      <td>United Kingdom</td>\n",
       "      <td>15.30</td>\n",
       "    </tr>\n",
       "    <tr>\n",
       "      <th>1</th>\n",
       "      <td>1</td>\n",
       "      <td>536365</td>\n",
       "      <td>71053</td>\n",
       "      <td>2010</td>\n",
       "      <td>12</td>\n",
       "      <td>3</td>\n",
       "      <td>8</td>\n",
       "      <td>white metal lantern</td>\n",
       "      <td>6</td>\n",
       "      <td>2010-12-01 08:26:00</td>\n",
       "      <td>3.39</td>\n",
       "      <td>17850</td>\n",
       "      <td>United Kingdom</td>\n",
       "      <td>20.34</td>\n",
       "    </tr>\n",
       "    <tr>\n",
       "      <th>2</th>\n",
       "      <td>2</td>\n",
       "      <td>536365</td>\n",
       "      <td>84406B</td>\n",
       "      <td>2010</td>\n",
       "      <td>12</td>\n",
       "      <td>3</td>\n",
       "      <td>8</td>\n",
       "      <td>cream cupid hearts coat hanger</td>\n",
       "      <td>8</td>\n",
       "      <td>2010-12-01 08:26:00</td>\n",
       "      <td>2.75</td>\n",
       "      <td>17850</td>\n",
       "      <td>United Kingdom</td>\n",
       "      <td>22.00</td>\n",
       "    </tr>\n",
       "    <tr>\n",
       "      <th>3</th>\n",
       "      <td>3</td>\n",
       "      <td>536365</td>\n",
       "      <td>84029G</td>\n",
       "      <td>2010</td>\n",
       "      <td>12</td>\n",
       "      <td>3</td>\n",
       "      <td>8</td>\n",
       "      <td>knitted union flag hot water bottle</td>\n",
       "      <td>6</td>\n",
       "      <td>2010-12-01 08:26:00</td>\n",
       "      <td>3.39</td>\n",
       "      <td>17850</td>\n",
       "      <td>United Kingdom</td>\n",
       "      <td>20.34</td>\n",
       "    </tr>\n",
       "    <tr>\n",
       "      <th>4</th>\n",
       "      <td>4</td>\n",
       "      <td>536365</td>\n",
       "      <td>84029E</td>\n",
       "      <td>2010</td>\n",
       "      <td>12</td>\n",
       "      <td>3</td>\n",
       "      <td>8</td>\n",
       "      <td>red woolly hottie white heart.</td>\n",
       "      <td>6</td>\n",
       "      <td>2010-12-01 08:26:00</td>\n",
       "      <td>3.39</td>\n",
       "      <td>17850</td>\n",
       "      <td>United Kingdom</td>\n",
       "      <td>20.34</td>\n",
       "    </tr>\n",
       "  </tbody>\n",
       "</table>\n",
       "</div>"
      ],
      "text/plain": [
       "   Unnamed: 0  InvoiceNo StockCode  year  month  day  hour  \\\n",
       "0           0     536365    85123A  2010     12    3     8   \n",
       "1           1     536365     71053  2010     12    3     8   \n",
       "2           2     536365    84406B  2010     12    3     8   \n",
       "3           3     536365    84029G  2010     12    3     8   \n",
       "4           4     536365    84029E  2010     12    3     8   \n",
       "\n",
       "                           Description  Quantity          InvoiceDate  \\\n",
       "0   white hanging heart t-light holder         6  2010-12-01 08:26:00   \n",
       "1                  white metal lantern         6  2010-12-01 08:26:00   \n",
       "2       cream cupid hearts coat hanger         8  2010-12-01 08:26:00   \n",
       "3  knitted union flag hot water bottle         6  2010-12-01 08:26:00   \n",
       "4       red woolly hottie white heart.         6  2010-12-01 08:26:00   \n",
       "\n",
       "   UnitPrice  CustomerID         Country  amount_spent  \n",
       "0       2.55       17850  United Kingdom         15.30  \n",
       "1       3.39       17850  United Kingdom         20.34  \n",
       "2       2.75       17850  United Kingdom         22.00  \n",
       "3       3.39       17850  United Kingdom         20.34  \n",
       "4       3.39       17850  United Kingdom         20.34  "
      ]
     },
     "execution_count": 4,
     "metadata": {},
     "output_type": "execute_result"
    }
   ],
   "source": [
    "# your code here\n",
    "orders=pd.read_csv(\"Orders.csv\")\n",
    "orders.head()\n"
   ]
  },
  {
   "cell_type": "markdown",
   "metadata": {},
   "source": [
    "---\n",
    "\n",
    "\"Identify VIP and Preferred Customers\" is the non-technical goal of your boss. You need to translate that goal into technical languages that data analysts use:\n",
    "\n",
    "## How to label customers whose aggregated `amount_spent` is in a given quantile range?\n"
   ]
  },
  {
   "cell_type": "markdown",
   "metadata": {},
   "source": [
    "We break down the main problem into several sub problems:\n",
    "\n",
    "#### Sub Problem 1: How to aggregate the  `amount_spent` for unique customers?\n",
    "\n",
    "#### Sub Problem 2: How to select customers whose aggregated `amount_spent` is in a given quantile range?\n",
    "\n",
    "#### Sub Problem 3: How to label selected customers as \"VIP\" or \"Preferred\"?\n",
    "\n",
    "*Note: If you want to break down the main problem in a different way, please feel free to revise the sub problems above.*\n",
    "\n",
    "Now in the workspace below, tackle each of the sub problems using the iterative problem solving workflow. Insert cells as necessary to write your codes and explain your steps."
   ]
  },
  {
   "cell_type": "code",
   "execution_count": 6,
   "metadata": {},
   "outputs": [
    {
     "name": "stdout",
     "output_type": "stream",
     "text": [
      "      CustomerID  amount_spent           Country\n",
      "0          12346      77183.60  [United Kingdom]\n",
      "1          12347       4310.00         [Iceland]\n",
      "2          12348       1797.24         [Finland]\n",
      "3          12349       1757.55           [Italy]\n",
      "4          12350        334.40          [Norway]\n",
      "...          ...           ...               ...\n",
      "4334       18280        180.60  [United Kingdom]\n",
      "4335       18281         80.82  [United Kingdom]\n",
      "4336       18282        178.05  [United Kingdom]\n",
      "4337       18283       2094.88  [United Kingdom]\n",
      "4338       18287       1837.28  [United Kingdom]\n",
      "\n",
      "[4339 rows x 3 columns]\n",
      "CustomerID        int64\n",
      "amount_spent    float64\n",
      "Country          object\n",
      "dtype: object\n"
     ]
    }
   ],
   "source": [
    "# your code here\n",
    "customer_spent=orders.groupby(['CustomerID']).agg({'amount_spent':'sum','Country':'unique'}).reset_index()\n",
    "print(customer_spent)\n",
    "print(customer_spent.dtypes)\n"
   ]
  },
  {
   "cell_type": "markdown",
   "metadata": {},
   "source": [
    "Now we'll leave it to you to solve Q2 & Q3, which you can leverage from your solution for Q1:\n",
    "\n",
    "## Q2: How to identify which country has the most VIP Customers?"
   ]
  },
  {
   "cell_type": "code",
   "execution_count": 7,
   "metadata": {},
   "outputs": [
    {
     "name": "stdout",
     "output_type": "stream",
     "text": [
      "      CustomerID  amount_spent           Country QuantileRank\n",
      "1690       14646     280206.02     [Netherlands]          VIP\n",
      "4202       18102     259657.30  [United Kingdom]          VIP\n",
      "3729       17450     194550.79  [United Kingdom]          VIP\n",
      "3009       16446     168472.50  [United Kingdom]          VIP\n",
      "1880       14911     143825.06            [EIRE]          VIP\n",
      "55         12415     124914.53       [Australia]          VIP\n",
      "1334       14156     117379.63            [EIRE]          VIP\n",
      "3772       17511      91062.38  [United Kingdom]          VIP\n",
      "2703       16029      81024.84  [United Kingdom]          VIP\n",
      "0          12346      77183.60  [United Kingdom]          VIP\n",
      "3177       16684      66653.56  [United Kingdom]          VIP\n",
      "1290       14096      65164.79  [United Kingdom]          VIP\n",
      "997        13694      65039.62  [United Kingdom]          VIP\n",
      "2177       15311      60767.90  [United Kingdom]          VIP\n",
      "562        13089      58825.83  [United Kingdom]          VIP\n",
      "4094       17949      58510.48  [United Kingdom]          VIP\n",
      "2518       15769      56252.72  [United Kingdom]          VIP\n",
      "1984       15061      54534.14  [United Kingdom]          VIP\n",
      "1435       14298      51527.30  [United Kingdom]          VIP\n",
      "1285       14088      50491.81  [United Kingdom]          VIP\n",
      "      CustomerID  amount_spent           Country QuantileRank\n",
      "1641       14576         35.40  [United Kingdom]          Low\n",
      "2498       15744         34.80  [United Kingdom]          Low\n",
      "3241       16765         34.00  [United Kingdom]          Low\n",
      "3697       17408         32.65  [United Kingdom]          Low\n",
      "586        13120         30.60  [United Kingdom]          Low\n",
      "2434       15657         30.00  [United Kingdom]          Low\n",
      "3487       17102         25.50  [United Kingdom]          Low\n",
      "4325       18268         25.50  [United Kingdom]          Low\n",
      "3381       16953         20.80  [United Kingdom]          Low\n",
      "4123       17986         20.80  [United Kingdom]          Low\n",
      "2745       16093         17.00  [United Kingdom]          Low\n",
      "2559       15823         15.00  [United Kingdom]          Low\n",
      "723        13307         15.00  [United Kingdom]          Low\n",
      "3961       17763         15.00  [United Kingdom]          Low\n",
      "3324       16878         13.30  [United Kingdom]          Low\n",
      "4099       17956         12.75  [United Kingdom]          Low\n",
      "3015       16454          6.90  [United Kingdom]          Low\n",
      "1794       14792          6.20  [United Kingdom]          Low\n",
      "3218       16738          3.75  [United Kingdom]          Low\n",
      "685        13256          0.00  [United Kingdom]          Low\n",
      "CustomerID         int64\n",
      "amount_spent     float64\n",
      "Country           object\n",
      "QuantileRank    category\n",
      "dtype: object\n",
      "      CustomerID  amount_spent           Country QuantileRank\n",
      "1690       14646     280206.02     'Netherlands'          VIP\n",
      "4202       18102     259657.30  'United Kingdom'          VIP\n",
      "3729       17450     194550.79  'United Kingdom'          VIP\n",
      "3009       16446     168472.50  'United Kingdom'          VIP\n",
      "1880       14911     143825.06            'EIRE'          VIP\n"
     ]
    }
   ],
   "source": [
    "# your code here\n",
    "customer_spent=customer_spent.sort_values(by=['amount_spent'],ascending=False)\n",
    "\n",
    "customer_spent['QuantileRank']= pd.qcut(customer_spent['amount_spent'], q = 4, labels = ['Low',\"Medium\",\"Preferred\",\"VIP\"])\n",
    "\n",
    "print(customer_spent.head(20))\n",
    "print(customer_spent.tail(20))\n",
    "print(customer_spent.dtypes)\n",
    "customer_spent[\"Country\"] = customer_spent[\"Country\"].apply(str)\n",
    "customer_spent[\"Country\"] = customer_spent[\"Country\"].str.replace(r'\\[|\\]', '', regex=True)\n",
    "print(customer_spent.head(5))\n",
    "#VIP=customer_spent['QuantileRank'==\"3\"]\n",
    "#Preferred=customer_spent['QuantileRank'==\"2\"]\n",
    "#print(VIP)\n",
    "#print(Preferred)"
   ]
  },
  {
   "cell_type": "markdown",
   "metadata": {},
   "source": [
    "## Q3: How to identify which country has the most VIP+Preferred Customers combined?"
   ]
  },
  {
   "cell_type": "code",
   "execution_count": 14,
   "metadata": {},
   "outputs": [
    {
     "name": "stdout",
     "output_type": "stream",
     "text": [
      "The country with the most VIP and Preferred cusomters is 'United Kingdom'\n"
     ]
    }
   ],
   "source": [
    "# your code here\n",
    "import numpy as np\n",
    "#pivot table return unhasable ndarray error\n",
    "#pivot_country=customer_spent_df.pivot_table(index=\"Country\",columns=\"QuantileRank\",values=\"QuantileRank\",aggfunc=\"count\")\n",
    "columns = ['Country','Number']\n",
    "stats = pd.DataFrame(columns=columns)\n",
    "customer_spent.head(5)\n",
    "pivot_table=customer_spent.pivot_table(values=\"CustomerID\",index=\"Country\",columns=\"QuantileRank\",aggfunc=\"count\")\n",
    "pivot_table.head(5)\n",
    "pivot_table[\"Total VP\"]=pivot_table[\"Preferred\"]+pivot_table[\"VIP\"]\n",
    "pivot_table\n",
    "pivot_table=pivot_table.sort_values(\"Total VP\",ascending=False)\n",
    "print(\"The country with the most VIP and Preferred cusomters is\",pivot_table.index[0])\n",
    "\n"
   ]
  },
  {
   "cell_type": "code",
   "execution_count": null,
   "metadata": {},
   "outputs": [],
   "source": []
  }
 ],
 "metadata": {
  "kernelspec": {
   "display_name": "Python 3 (ipykernel)",
   "language": "python",
   "name": "python3"
  },
  "language_info": {
   "codemirror_mode": {
    "name": "ipython",
    "version": 3
   },
   "file_extension": ".py",
   "mimetype": "text/x-python",
   "name": "python",
   "nbconvert_exporter": "python",
   "pygments_lexer": "ipython3",
   "version": "3.11.4"
  }
 },
 "nbformat": 4,
 "nbformat_minor": 2
}
