{
 "cells": [
  {
   "cell_type": "code",
   "execution_count": 38,
   "id": "dc39c9fc",
   "metadata": {},
   "outputs": [
    {
     "name": "stdout",
     "output_type": "stream",
     "text": [
      "('Days:', 5)\n"
     ]
    }
   ],
   "source": [
    "def escape():\n",
    "    daily_climb = [30, 21, 33, 77, 44, 45, 23, 45, 12, 34, 55]\n",
    "    well_height = 125\n",
    "    nightly_fall = 20\n",
    "    total_distance = 0\n",
    "    total_days = 0\n",
    "    is_morning = True\n",
    "    n=0\n",
    "    while(total_distance<well_height):    \n",
    "        if (is_morning):        \n",
    "            total_distance= total_distance + daily_climb[n]\n",
    "            is_morning=False\n",
    "            n=n+1\n",
    "            total_days= total_days+1\n",
    "        else:\n",
    "            total_distance=total_distance-nightly_fall\n",
    "            is_morning=True\n",
    "    return(\"Days:\",total_days)\n",
    "print(escape())   \n",
    "    \n"
   ]
  },
  {
   "cell_type": "code",
   "execution_count": 60,
   "id": "131951c8",
   "metadata": {},
   "outputs": [
    {
     "name": "stdout",
     "output_type": "stream",
     "text": [
      "[30, 21, 33, 77, 44]\n",
      "[30, 21, 33, 77, 44, 45, 23, 45, 12, 34, 55]\n"
     ]
    }
   ],
   "source": [
    "daily_climb_new = list(daily_climb[0:5])\n",
    "print(daily_climb_new)\n",
    "\n"
   ]
  },
  {
   "cell_type": "code",
   "execution_count": 61,
   "id": "195500e0",
   "metadata": {},
   "outputs": [
    {
     "name": "stdout",
     "output_type": "stream",
     "text": [
      "77\n",
      "57\n"
     ]
    }
   ],
   "source": [
    "\n",
    "\n",
    "max_dis = max(daily_climb_new)\n",
    "print(max_dis)\n",
    "max_displ= max_dis-nightly_fall\n",
    "print(max_displ)"
   ]
  },
  {
   "cell_type": "code",
   "execution_count": 71,
   "id": "9f852291",
   "metadata": {},
   "outputs": [
    {
     "name": "stdout",
     "output_type": "stream",
     "text": [
      "57\n"
     ]
    }
   ],
   "source": [
    "def max_displacement():\n",
    "    max_dis = max(daily_climb_new)\n",
    "    max_displ= max_dis-nightly_fall\n",
    "    return max_displ\n",
    "print(max_displacement())"
   ]
  },
  {
   "cell_type": "code",
   "execution_count": 70,
   "id": "04d94faf",
   "metadata": {},
   "outputs": [
    {
     "name": "stdout",
     "output_type": "stream",
     "text": [
      "1\n"
     ]
    }
   ],
   "source": [
    "def min_displacement():\n",
    "    min_dis = min(daily_climb_new)\n",
    "    min_displ= min_dis-nightly_fall\n",
    "  \n",
    "   # YOUR SOLUTION HERE\n",
    "    return min_displ\n",
    "print(min_displacement())"
   ]
  },
  {
   "cell_type": "code",
   "execution_count": 69,
   "id": "0635e79a",
   "metadata": {},
   "outputs": [
    {
     "name": "stdout",
     "output_type": "stream",
     "text": [
      "41.0\n"
     ]
    }
   ],
   "source": [
    "import numpy as np\n",
    "\n",
    "def avg_speed():    \n",
    "    avg_sp = round(sum(daily_climb_new)/len(daily_climb_new),1)\n",
    "    return avg_sp\n",
    "print(avg_speed())\n"
   ]
  },
  {
   "cell_type": "code",
   "execution_count": 72,
   "id": "d8e5864a",
   "metadata": {},
   "outputs": [
    {
     "name": "stdout",
     "output_type": "stream",
     "text": [
      "19.44\n"
     ]
    }
   ],
   "source": [
    "def standard_deviation():\n",
    "    std_dev = round(np.std(daily_climb_new),2)\n",
    "    return std_dev\n",
    "print(standard_deviation())"
   ]
  },
  {
   "cell_type": "code",
   "execution_count": null,
   "id": "4407b7c2",
   "metadata": {},
   "outputs": [],
   "source": []
  }
 ],
 "metadata": {
  "kernelspec": {
   "display_name": "Python 3 (ipykernel)",
   "language": "python",
   "name": "python3"
  },
  "language_info": {
   "codemirror_mode": {
    "name": "ipython",
    "version": 3
   },
   "file_extension": ".py",
   "mimetype": "text/x-python",
   "name": "python",
   "nbconvert_exporter": "python",
   "pygments_lexer": "ipython3",
   "version": "3.9.12"
  }
 },
 "nbformat": 4,
 "nbformat_minor": 5
}
