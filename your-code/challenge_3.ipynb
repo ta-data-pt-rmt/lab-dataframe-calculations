{
  "cells": [
    {
      "cell_type": "markdown",
      "metadata": {
        "id": "nKvN2NyYx-8X"
      },
      "source": [
        "# Challenge 3\n",
        "\n",
        "In this challenge we will work on the `Orders` data set. In your work you will apply the thinking process and workflow we showed you in Challenge 2.\n",
        "\n",
        "You are serving as a Business Intelligence Analyst at the headquarter of an international fashion goods chain store. Your boss today asked you to do two things for her:\n",
        "\n",
        "**First, identify two groups of customers from the data set.** The first group is **VIP Customers** whose **aggregated expenses** at your global chain stores are **above the 95th percentile** (aka. 0.95 quantile). The second group is **Preferred Customers** whose **aggregated expenses** are **between the 75th and 95th percentile**.\n",
        "\n",
        "**Second, identify which country has the most of your VIP customers, and which country has the most of your VIP+Preferred Customers combined.**"
      ]
    },
    {
      "cell_type": "markdown",
      "metadata": {
        "id": "ptQ4eHBbx-8Z"
      },
      "source": [
        "## Q1: How to identify VIP & Preferred Customers?\n",
        "\n",
        "We start by importing all the required libraries:"
      ]
    },
    {
      "cell_type": "code",
      "execution_count": 1,
      "metadata": {
        "id": "v-kLfIdRx-8Z"
      },
      "outputs": [],
      "source": [
        "# import required libraries\n",
        "import numpy as np\n",
        "import pandas as pd"
      ]
    },
    {
      "cell_type": "markdown",
      "metadata": {
        "id": "6ryoJKUZx-8a"
      },
      "source": [
        "Next, extract and import `Orders` dataset into a dataframe variable called `orders`. Print the head of `orders` to overview the data:"
      ]
    },
    {
      "cell_type": "code",
      "execution_count": 3,
      "metadata": {
        "colab": {
          "base_uri": "https://localhost:8080/",
          "height": 424
        },
        "id": "TYdTXmwIx-8a",
        "outputId": "16f04c71-b479-470e-e5ed-039a6b893363"
      },
      "outputs": [
        {
          "output_type": "execute_result",
          "data": {
            "text/plain": [
              "        Unnamed: 0  InvoiceNo StockCode    year  month  day  hour  \\\n",
              "0                0   536365.0    85123A  2010.0   12.0  3.0   8.0   \n",
              "1                1   536365.0     71053  2010.0   12.0  3.0   8.0   \n",
              "2                2   536365.0    84406B  2010.0   12.0  3.0   8.0   \n",
              "3                3   536365.0    84029G  2010.0   12.0  3.0   8.0   \n",
              "4                4   536365.0    84029E  2010.0   12.0  3.0   8.0   \n",
              "...            ...        ...       ...     ...    ...  ...   ...   \n",
              "388661      526725   580677.0    85034C  2011.0   12.0  1.0  14.0   \n",
              "388662      526726   580677.0     22055  2011.0   12.0  1.0  14.0   \n",
              "388663      526727   580677.0     84991  2011.0   12.0  1.0  14.0   \n",
              "388664      526728   580677.0     23210  2011.0   12.0  1.0  14.0   \n",
              "388665        5267        NaN       NaN     NaN    NaN  NaN   NaN   \n",
              "\n",
              "                                Description  Quantity          InvoiceDate  \\\n",
              "0        white hanging heart t-light holder       6.0  2010-12-01 08:26:00   \n",
              "1                       white metal lantern       6.0  2010-12-01 08:26:00   \n",
              "2            cream cupid hearts coat hanger       8.0  2010-12-01 08:26:00   \n",
              "3       knitted union flag hot water bottle       6.0  2010-12-01 08:26:00   \n",
              "4            red woolly hottie white heart.       6.0  2010-12-01 08:26:00   \n",
              "...                                     ...       ...                  ...   \n",
              "388661          3 rose morris boxed candles       1.0  2011-12-05 14:40:00   \n",
              "388662   mini cake stand  hanging strawbery       1.0  2011-12-05 14:40:00   \n",
              "388663          60 teatime fairy cake cases       1.0  2011-12-05 14:40:00   \n",
              "388664     white rocking horse hand painted       1.0  2011-12-05 14:40:00   \n",
              "388665                                  NaN       NaN                  NaN   \n",
              "\n",
              "        UnitPrice  CustomerID         Country  amount_spent  \n",
              "0            2.55     17850.0  United Kingdom         15.30  \n",
              "1            3.39     17850.0  United Kingdom         20.34  \n",
              "2            2.75     17850.0  United Kingdom         22.00  \n",
              "3            3.39     17850.0  United Kingdom         20.34  \n",
              "4            3.39     17850.0  United Kingdom         20.34  \n",
              "...           ...         ...             ...           ...  \n",
              "388661       1.25     16200.0  United Kingdom          1.25  \n",
              "388662       0.39     16200.0  United Kingdom          0.39  \n",
              "388663       0.55     16200.0  United Kingdom          0.55  \n",
              "388664       1.25     16200.0  United Kingdom          1.25  \n",
              "388665        NaN         NaN             NaN           NaN  \n",
              "\n",
              "[388666 rows x 14 columns]"
            ],
            "text/html": [
              "\n",
              "  <div id=\"df-3107f7c4-cbdd-409e-98d6-cf79575727bd\" class=\"colab-df-container\">\n",
              "    <div>\n",
              "<style scoped>\n",
              "    .dataframe tbody tr th:only-of-type {\n",
              "        vertical-align: middle;\n",
              "    }\n",
              "\n",
              "    .dataframe tbody tr th {\n",
              "        vertical-align: top;\n",
              "    }\n",
              "\n",
              "    .dataframe thead th {\n",
              "        text-align: right;\n",
              "    }\n",
              "</style>\n",
              "<table border=\"1\" class=\"dataframe\">\n",
              "  <thead>\n",
              "    <tr style=\"text-align: right;\">\n",
              "      <th></th>\n",
              "      <th>Unnamed: 0</th>\n",
              "      <th>InvoiceNo</th>\n",
              "      <th>StockCode</th>\n",
              "      <th>year</th>\n",
              "      <th>month</th>\n",
              "      <th>day</th>\n",
              "      <th>hour</th>\n",
              "      <th>Description</th>\n",
              "      <th>Quantity</th>\n",
              "      <th>InvoiceDate</th>\n",
              "      <th>UnitPrice</th>\n",
              "      <th>CustomerID</th>\n",
              "      <th>Country</th>\n",
              "      <th>amount_spent</th>\n",
              "    </tr>\n",
              "  </thead>\n",
              "  <tbody>\n",
              "    <tr>\n",
              "      <th>0</th>\n",
              "      <td>0</td>\n",
              "      <td>536365.0</td>\n",
              "      <td>85123A</td>\n",
              "      <td>2010.0</td>\n",
              "      <td>12.0</td>\n",
              "      <td>3.0</td>\n",
              "      <td>8.0</td>\n",
              "      <td>white hanging heart t-light holder</td>\n",
              "      <td>6.0</td>\n",
              "      <td>2010-12-01 08:26:00</td>\n",
              "      <td>2.55</td>\n",
              "      <td>17850.0</td>\n",
              "      <td>United Kingdom</td>\n",
              "      <td>15.30</td>\n",
              "    </tr>\n",
              "    <tr>\n",
              "      <th>1</th>\n",
              "      <td>1</td>\n",
              "      <td>536365.0</td>\n",
              "      <td>71053</td>\n",
              "      <td>2010.0</td>\n",
              "      <td>12.0</td>\n",
              "      <td>3.0</td>\n",
              "      <td>8.0</td>\n",
              "      <td>white metal lantern</td>\n",
              "      <td>6.0</td>\n",
              "      <td>2010-12-01 08:26:00</td>\n",
              "      <td>3.39</td>\n",
              "      <td>17850.0</td>\n",
              "      <td>United Kingdom</td>\n",
              "      <td>20.34</td>\n",
              "    </tr>\n",
              "    <tr>\n",
              "      <th>2</th>\n",
              "      <td>2</td>\n",
              "      <td>536365.0</td>\n",
              "      <td>84406B</td>\n",
              "      <td>2010.0</td>\n",
              "      <td>12.0</td>\n",
              "      <td>3.0</td>\n",
              "      <td>8.0</td>\n",
              "      <td>cream cupid hearts coat hanger</td>\n",
              "      <td>8.0</td>\n",
              "      <td>2010-12-01 08:26:00</td>\n",
              "      <td>2.75</td>\n",
              "      <td>17850.0</td>\n",
              "      <td>United Kingdom</td>\n",
              "      <td>22.00</td>\n",
              "    </tr>\n",
              "    <tr>\n",
              "      <th>3</th>\n",
              "      <td>3</td>\n",
              "      <td>536365.0</td>\n",
              "      <td>84029G</td>\n",
              "      <td>2010.0</td>\n",
              "      <td>12.0</td>\n",
              "      <td>3.0</td>\n",
              "      <td>8.0</td>\n",
              "      <td>knitted union flag hot water bottle</td>\n",
              "      <td>6.0</td>\n",
              "      <td>2010-12-01 08:26:00</td>\n",
              "      <td>3.39</td>\n",
              "      <td>17850.0</td>\n",
              "      <td>United Kingdom</td>\n",
              "      <td>20.34</td>\n",
              "    </tr>\n",
              "    <tr>\n",
              "      <th>4</th>\n",
              "      <td>4</td>\n",
              "      <td>536365.0</td>\n",
              "      <td>84029E</td>\n",
              "      <td>2010.0</td>\n",
              "      <td>12.0</td>\n",
              "      <td>3.0</td>\n",
              "      <td>8.0</td>\n",
              "      <td>red woolly hottie white heart.</td>\n",
              "      <td>6.0</td>\n",
              "      <td>2010-12-01 08:26:00</td>\n",
              "      <td>3.39</td>\n",
              "      <td>17850.0</td>\n",
              "      <td>United Kingdom</td>\n",
              "      <td>20.34</td>\n",
              "    </tr>\n",
              "    <tr>\n",
              "      <th>...</th>\n",
              "      <td>...</td>\n",
              "      <td>...</td>\n",
              "      <td>...</td>\n",
              "      <td>...</td>\n",
              "      <td>...</td>\n",
              "      <td>...</td>\n",
              "      <td>...</td>\n",
              "      <td>...</td>\n",
              "      <td>...</td>\n",
              "      <td>...</td>\n",
              "      <td>...</td>\n",
              "      <td>...</td>\n",
              "      <td>...</td>\n",
              "      <td>...</td>\n",
              "    </tr>\n",
              "    <tr>\n",
              "      <th>388661</th>\n",
              "      <td>526725</td>\n",
              "      <td>580677.0</td>\n",
              "      <td>85034C</td>\n",
              "      <td>2011.0</td>\n",
              "      <td>12.0</td>\n",
              "      <td>1.0</td>\n",
              "      <td>14.0</td>\n",
              "      <td>3 rose morris boxed candles</td>\n",
              "      <td>1.0</td>\n",
              "      <td>2011-12-05 14:40:00</td>\n",
              "      <td>1.25</td>\n",
              "      <td>16200.0</td>\n",
              "      <td>United Kingdom</td>\n",
              "      <td>1.25</td>\n",
              "    </tr>\n",
              "    <tr>\n",
              "      <th>388662</th>\n",
              "      <td>526726</td>\n",
              "      <td>580677.0</td>\n",
              "      <td>22055</td>\n",
              "      <td>2011.0</td>\n",
              "      <td>12.0</td>\n",
              "      <td>1.0</td>\n",
              "      <td>14.0</td>\n",
              "      <td>mini cake stand  hanging strawbery</td>\n",
              "      <td>1.0</td>\n",
              "      <td>2011-12-05 14:40:00</td>\n",
              "      <td>0.39</td>\n",
              "      <td>16200.0</td>\n",
              "      <td>United Kingdom</td>\n",
              "      <td>0.39</td>\n",
              "    </tr>\n",
              "    <tr>\n",
              "      <th>388663</th>\n",
              "      <td>526727</td>\n",
              "      <td>580677.0</td>\n",
              "      <td>84991</td>\n",
              "      <td>2011.0</td>\n",
              "      <td>12.0</td>\n",
              "      <td>1.0</td>\n",
              "      <td>14.0</td>\n",
              "      <td>60 teatime fairy cake cases</td>\n",
              "      <td>1.0</td>\n",
              "      <td>2011-12-05 14:40:00</td>\n",
              "      <td>0.55</td>\n",
              "      <td>16200.0</td>\n",
              "      <td>United Kingdom</td>\n",
              "      <td>0.55</td>\n",
              "    </tr>\n",
              "    <tr>\n",
              "      <th>388664</th>\n",
              "      <td>526728</td>\n",
              "      <td>580677.0</td>\n",
              "      <td>23210</td>\n",
              "      <td>2011.0</td>\n",
              "      <td>12.0</td>\n",
              "      <td>1.0</td>\n",
              "      <td>14.0</td>\n",
              "      <td>white rocking horse hand painted</td>\n",
              "      <td>1.0</td>\n",
              "      <td>2011-12-05 14:40:00</td>\n",
              "      <td>1.25</td>\n",
              "      <td>16200.0</td>\n",
              "      <td>United Kingdom</td>\n",
              "      <td>1.25</td>\n",
              "    </tr>\n",
              "    <tr>\n",
              "      <th>388665</th>\n",
              "      <td>5267</td>\n",
              "      <td>NaN</td>\n",
              "      <td>NaN</td>\n",
              "      <td>NaN</td>\n",
              "      <td>NaN</td>\n",
              "      <td>NaN</td>\n",
              "      <td>NaN</td>\n",
              "      <td>NaN</td>\n",
              "      <td>NaN</td>\n",
              "      <td>NaN</td>\n",
              "      <td>NaN</td>\n",
              "      <td>NaN</td>\n",
              "      <td>NaN</td>\n",
              "      <td>NaN</td>\n",
              "    </tr>\n",
              "  </tbody>\n",
              "</table>\n",
              "<p>388666 rows × 14 columns</p>\n",
              "</div>\n",
              "    <div class=\"colab-df-buttons\">\n",
              "\n",
              "  <div class=\"colab-df-container\">\n",
              "    <button class=\"colab-df-convert\" onclick=\"convertToInteractive('df-3107f7c4-cbdd-409e-98d6-cf79575727bd')\"\n",
              "            title=\"Convert this dataframe to an interactive table.\"\n",
              "            style=\"display:none;\">\n",
              "\n",
              "  <svg xmlns=\"http://www.w3.org/2000/svg\" height=\"24px\" viewBox=\"0 -960 960 960\">\n",
              "    <path d=\"M120-120v-720h720v720H120Zm60-500h600v-160H180v160Zm220 220h160v-160H400v160Zm0 220h160v-160H400v160ZM180-400h160v-160H180v160Zm440 0h160v-160H620v160ZM180-180h160v-160H180v160Zm440 0h160v-160H620v160Z\"/>\n",
              "  </svg>\n",
              "    </button>\n",
              "\n",
              "  <style>\n",
              "    .colab-df-container {\n",
              "      display:flex;\n",
              "      gap: 12px;\n",
              "    }\n",
              "\n",
              "    .colab-df-convert {\n",
              "      background-color: #E8F0FE;\n",
              "      border: none;\n",
              "      border-radius: 50%;\n",
              "      cursor: pointer;\n",
              "      display: none;\n",
              "      fill: #1967D2;\n",
              "      height: 32px;\n",
              "      padding: 0 0 0 0;\n",
              "      width: 32px;\n",
              "    }\n",
              "\n",
              "    .colab-df-convert:hover {\n",
              "      background-color: #E2EBFA;\n",
              "      box-shadow: 0px 1px 2px rgba(60, 64, 67, 0.3), 0px 1px 3px 1px rgba(60, 64, 67, 0.15);\n",
              "      fill: #174EA6;\n",
              "    }\n",
              "\n",
              "    .colab-df-buttons div {\n",
              "      margin-bottom: 4px;\n",
              "    }\n",
              "\n",
              "    [theme=dark] .colab-df-convert {\n",
              "      background-color: #3B4455;\n",
              "      fill: #D2E3FC;\n",
              "    }\n",
              "\n",
              "    [theme=dark] .colab-df-convert:hover {\n",
              "      background-color: #434B5C;\n",
              "      box-shadow: 0px 1px 3px 1px rgba(0, 0, 0, 0.15);\n",
              "      filter: drop-shadow(0px 1px 2px rgba(0, 0, 0, 0.3));\n",
              "      fill: #FFFFFF;\n",
              "    }\n",
              "  </style>\n",
              "\n",
              "    <script>\n",
              "      const buttonEl =\n",
              "        document.querySelector('#df-3107f7c4-cbdd-409e-98d6-cf79575727bd button.colab-df-convert');\n",
              "      buttonEl.style.display =\n",
              "        google.colab.kernel.accessAllowed ? 'block' : 'none';\n",
              "\n",
              "      async function convertToInteractive(key) {\n",
              "        const element = document.querySelector('#df-3107f7c4-cbdd-409e-98d6-cf79575727bd');\n",
              "        const dataTable =\n",
              "          await google.colab.kernel.invokeFunction('convertToInteractive',\n",
              "                                                    [key], {});\n",
              "        if (!dataTable) return;\n",
              "\n",
              "        const docLinkHtml = 'Like what you see? Visit the ' +\n",
              "          '<a target=\"_blank\" href=https://colab.research.google.com/notebooks/data_table.ipynb>data table notebook</a>'\n",
              "          + ' to learn more about interactive tables.';\n",
              "        element.innerHTML = '';\n",
              "        dataTable['output_type'] = 'display_data';\n",
              "        await google.colab.output.renderOutput(dataTable, element);\n",
              "        const docLink = document.createElement('div');\n",
              "        docLink.innerHTML = docLinkHtml;\n",
              "        element.appendChild(docLink);\n",
              "      }\n",
              "    </script>\n",
              "  </div>\n",
              "\n",
              "\n",
              "<div id=\"df-1fd4e39b-919f-4e4a-8e4e-b35c956aaaf7\">\n",
              "  <button class=\"colab-df-quickchart\" onclick=\"quickchart('df-1fd4e39b-919f-4e4a-8e4e-b35c956aaaf7')\"\n",
              "            title=\"Suggest charts.\"\n",
              "            style=\"display:none;\">\n",
              "\n",
              "<svg xmlns=\"http://www.w3.org/2000/svg\" height=\"24px\"viewBox=\"0 0 24 24\"\n",
              "     width=\"24px\">\n",
              "    <g>\n",
              "        <path d=\"M19 3H5c-1.1 0-2 .9-2 2v14c0 1.1.9 2 2 2h14c1.1 0 2-.9 2-2V5c0-1.1-.9-2-2-2zM9 17H7v-7h2v7zm4 0h-2V7h2v10zm4 0h-2v-4h2v4z\"/>\n",
              "    </g>\n",
              "</svg>\n",
              "  </button>\n",
              "\n",
              "<style>\n",
              "  .colab-df-quickchart {\n",
              "      --bg-color: #E8F0FE;\n",
              "      --fill-color: #1967D2;\n",
              "      --hover-bg-color: #E2EBFA;\n",
              "      --hover-fill-color: #174EA6;\n",
              "      --disabled-fill-color: #AAA;\n",
              "      --disabled-bg-color: #DDD;\n",
              "  }\n",
              "\n",
              "  [theme=dark] .colab-df-quickchart {\n",
              "      --bg-color: #3B4455;\n",
              "      --fill-color: #D2E3FC;\n",
              "      --hover-bg-color: #434B5C;\n",
              "      --hover-fill-color: #FFFFFF;\n",
              "      --disabled-bg-color: #3B4455;\n",
              "      --disabled-fill-color: #666;\n",
              "  }\n",
              "\n",
              "  .colab-df-quickchart {\n",
              "    background-color: var(--bg-color);\n",
              "    border: none;\n",
              "    border-radius: 50%;\n",
              "    cursor: pointer;\n",
              "    display: none;\n",
              "    fill: var(--fill-color);\n",
              "    height: 32px;\n",
              "    padding: 0;\n",
              "    width: 32px;\n",
              "  }\n",
              "\n",
              "  .colab-df-quickchart:hover {\n",
              "    background-color: var(--hover-bg-color);\n",
              "    box-shadow: 0 1px 2px rgba(60, 64, 67, 0.3), 0 1px 3px 1px rgba(60, 64, 67, 0.15);\n",
              "    fill: var(--button-hover-fill-color);\n",
              "  }\n",
              "\n",
              "  .colab-df-quickchart-complete:disabled,\n",
              "  .colab-df-quickchart-complete:disabled:hover {\n",
              "    background-color: var(--disabled-bg-color);\n",
              "    fill: var(--disabled-fill-color);\n",
              "    box-shadow: none;\n",
              "  }\n",
              "\n",
              "  .colab-df-spinner {\n",
              "    border: 2px solid var(--fill-color);\n",
              "    border-color: transparent;\n",
              "    border-bottom-color: var(--fill-color);\n",
              "    animation:\n",
              "      spin 1s steps(1) infinite;\n",
              "  }\n",
              "\n",
              "  @keyframes spin {\n",
              "    0% {\n",
              "      border-color: transparent;\n",
              "      border-bottom-color: var(--fill-color);\n",
              "      border-left-color: var(--fill-color);\n",
              "    }\n",
              "    20% {\n",
              "      border-color: transparent;\n",
              "      border-left-color: var(--fill-color);\n",
              "      border-top-color: var(--fill-color);\n",
              "    }\n",
              "    30% {\n",
              "      border-color: transparent;\n",
              "      border-left-color: var(--fill-color);\n",
              "      border-top-color: var(--fill-color);\n",
              "      border-right-color: var(--fill-color);\n",
              "    }\n",
              "    40% {\n",
              "      border-color: transparent;\n",
              "      border-right-color: var(--fill-color);\n",
              "      border-top-color: var(--fill-color);\n",
              "    }\n",
              "    60% {\n",
              "      border-color: transparent;\n",
              "      border-right-color: var(--fill-color);\n",
              "    }\n",
              "    80% {\n",
              "      border-color: transparent;\n",
              "      border-right-color: var(--fill-color);\n",
              "      border-bottom-color: var(--fill-color);\n",
              "    }\n",
              "    90% {\n",
              "      border-color: transparent;\n",
              "      border-bottom-color: var(--fill-color);\n",
              "    }\n",
              "  }\n",
              "</style>\n",
              "\n",
              "  <script>\n",
              "    async function quickchart(key) {\n",
              "      const quickchartButtonEl =\n",
              "        document.querySelector('#' + key + ' button');\n",
              "      quickchartButtonEl.disabled = true;  // To prevent multiple clicks.\n",
              "      quickchartButtonEl.classList.add('colab-df-spinner');\n",
              "      try {\n",
              "        const charts = await google.colab.kernel.invokeFunction(\n",
              "            'suggestCharts', [key], {});\n",
              "      } catch (error) {\n",
              "        console.error('Error during call to suggestCharts:', error);\n",
              "      }\n",
              "      quickchartButtonEl.classList.remove('colab-df-spinner');\n",
              "      quickchartButtonEl.classList.add('colab-df-quickchart-complete');\n",
              "    }\n",
              "    (() => {\n",
              "      let quickchartButtonEl =\n",
              "        document.querySelector('#df-1fd4e39b-919f-4e4a-8e4e-b35c956aaaf7 button');\n",
              "      quickchartButtonEl.style.display =\n",
              "        google.colab.kernel.accessAllowed ? 'block' : 'none';\n",
              "    })();\n",
              "  </script>\n",
              "</div>\n",
              "    </div>\n",
              "  </div>\n"
            ]
          },
          "metadata": {},
          "execution_count": 3
        }
      ],
      "source": [
        "orders = pd.read_csv(\"Orders.csv\")\n",
        "orders"
      ]
    },
    {
      "cell_type": "markdown",
      "metadata": {
        "id": "Jvk210_1x-8b"
      },
      "source": [
        "---\n",
        "\n",
        "\"Identify VIP and Preferred Customers\" is the non-technical goal of your boss. You need to translate that goal into technical languages that data analysts use:\n",
        "\n",
        "## How to label customers whose aggregated `amount_spent` is in a given quantile range?\n"
      ]
    },
    {
      "cell_type": "markdown",
      "metadata": {
        "id": "BuGuxnEEx-8b"
      },
      "source": [
        "We break down the main problem into several sub problems:\n",
        "\n",
        "#### Sub Problem 1: How to aggregate the  `amount_spent` for unique customers?\n",
        "\n",
        "#### Sub Problem 2: How to select customers whose aggregated `amount_spent` is in a given quantile range?\n",
        "\n",
        "#### Sub Problem 3: How to label selected customers as \"VIP\" or \"Preferred\"?\n",
        "\n",
        "*Note: If you want to break down the main problem in a different way, please feel free to revise the sub problems above.*\n",
        "\n",
        "Now in the workspace below, tackle each of the sub problems using the iterative problem solving workflow. Insert cells as necessary to write your codes and explain your steps."
      ]
    },
    {
      "cell_type": "code",
      "execution_count": 7,
      "metadata": {
        "colab": {
          "base_uri": "https://localhost:8080/"
        },
        "id": "NKX8WT8Gx-8b",
        "outputId": "d8eed4b3-d877-4bbf-9ec0-68e286264672"
      },
      "outputs": [
        {
          "output_type": "execute_result",
          "data": {
            "text/plain": [
              "CustomerID\n",
              "12346.0    77183.60\n",
              "12347.0     4085.18\n",
              "12348.0     1797.24\n",
              "12349.0     1757.55\n",
              "12350.0      334.40\n",
              "             ...   \n",
              "18280.0      180.60\n",
              "18281.0       80.82\n",
              "18282.0      178.05\n",
              "18283.0     1886.88\n",
              "18287.0     1837.28\n",
              "Name: amount_spent, Length: 4314, dtype: float64"
            ]
          },
          "metadata": {},
          "execution_count": 7
        }
      ],
      "source": [
        "Agg_amount_spent = orders.groupby([\"CustomerID\"])[\"amount_spent\"].agg(sum)\n",
        "Agg_amount_spent"
      ]
    },
    {
      "cell_type": "code",
      "source": [
        "Agg_amount_spent.max()"
      ],
      "metadata": {
        "colab": {
          "base_uri": "https://localhost:8080/"
        },
        "id": "Miu-Gt7V4NCt",
        "outputId": "d3dad8d5-c218-458b-e629-26c4bcee72b0"
      },
      "execution_count": 8,
      "outputs": [
        {
          "output_type": "execute_result",
          "data": {
            "text/plain": [
              "268478.0"
            ]
          },
          "metadata": {},
          "execution_count": 8
        }
      ]
    },
    {
      "cell_type": "code",
      "source": [
        "Agg_amount_spent.min()"
      ],
      "metadata": {
        "colab": {
          "base_uri": "https://localhost:8080/"
        },
        "id": "ijtNXwXY4YDd",
        "outputId": "ea0d4179-7bc3-4952-bf0d-7e81e0ed8e07"
      },
      "execution_count": 9,
      "outputs": [
        {
          "output_type": "execute_result",
          "data": {
            "text/plain": [
              "0.0"
            ]
          },
          "metadata": {},
          "execution_count": 9
        }
      ]
    },
    {
      "cell_type": "code",
      "source": [
        "percentiles = Agg_amount_spent.quantile([0.75, 0.95])\n",
        "\n",
        "vip_customers = Agg_amount_spent[Agg_amount_spent > percentiles[0.95]]\n",
        "preferred_customers = Agg_amount_spent[(Agg_amount_spent >= percentiles[0.75]) & (Agg_amount_spent <= percentiles[0.95])]\n",
        "\n",
        "display(vip_customers)\n",
        "display(preferred_customers)"
      ],
      "metadata": {
        "colab": {
          "base_uri": "https://localhost:8080/",
          "height": 468
        },
        "id": "fKAaS5lg1UIc",
        "outputId": "60be138c-acf7-4019-fb26-d537be6cea4f"
      },
      "execution_count": 16,
      "outputs": [
        {
          "output_type": "display_data",
          "data": {
            "text/plain": [
              "CustomerID\n",
              "12346.0     77183.60\n",
              "12357.0      6207.67\n",
              "12359.0      6372.58\n",
              "12409.0     11072.67\n",
              "12415.0    124914.53\n",
              "             ...    \n",
              "18109.0      7360.30\n",
              "18139.0      8438.34\n",
              "18172.0      7561.68\n",
              "18223.0      6484.54\n",
              "18229.0      7276.90\n",
              "Name: amount_spent, Length: 216, dtype: float64"
            ]
          },
          "metadata": {}
        },
        {
          "output_type": "display_data",
          "data": {
            "text/plain": [
              "CustomerID\n",
              "12347.0    4085.18\n",
              "12348.0    1797.24\n",
              "12349.0    1757.55\n",
              "12352.0    2506.04\n",
              "12356.0    2811.43\n",
              "            ...   \n",
              "18259.0    2338.60\n",
              "18260.0    2643.20\n",
              "18272.0    2710.70\n",
              "18283.0    1886.88\n",
              "18287.0    1837.28\n",
              "Name: amount_spent, Length: 863, dtype: float64"
            ]
          },
          "metadata": {}
        }
      ]
    },
    {
      "cell_type": "markdown",
      "metadata": {
        "id": "WtlDMhHXx-8b"
      },
      "source": [
        "Now we'll leave it to you to solve Q2 & Q3, which you can leverage from your solution for Q1:\n",
        "\n",
        "## Q2: How to identify which country has the most VIP Customers?"
      ]
    },
    {
      "cell_type": "code",
      "execution_count": 18,
      "metadata": {
        "colab": {
          "base_uri": "https://localhost:8080/"
        },
        "id": "BX3ghAlix-8b",
        "outputId": "39e455a0-5cf0-48e3-9558-1d84c56a0752"
      },
      "outputs": [
        {
          "output_type": "stream",
          "name": "stdout",
          "text": [
            "The country with the most VIP Customers is United Kingdom with 176 VIP Customers.\n"
          ]
        }
      ],
      "source": [
        "vip_customer_counts = orders[orders['CustomerID'].isin(vip_customers.index)].groupby('Country')['CustomerID'].nunique()\n",
        "\n",
        "country_with_most_vip_customers = vip_customer_counts.idxmax()\n",
        "num_vip_customers_in_country = vip_customer_counts.max()\n",
        "\n",
        "print(f\"The country with the most VIP Customers is {country_with_most_vip_customers} with {num_vip_customers_in_country} VIP Customers.\")\n"
      ]
    },
    {
      "cell_type": "markdown",
      "metadata": {
        "id": "NcqSG2CLx-8b"
      },
      "source": [
        "## Q3: How to identify which country has the most VIP+Preferred Customers combined?"
      ]
    },
    {
      "cell_type": "code",
      "execution_count": 21,
      "metadata": {
        "colab": {
          "base_uri": "https://localhost:8080/"
        },
        "id": "ae13lktrx-8c",
        "outputId": "908652eb-75c3-4d78-cd2c-7d552cbd73a7"
      },
      "outputs": [
        {
          "output_type": "stream",
          "name": "stdout",
          "text": [
            "The country with the most VIP+Preferred Customers is United KingdomUnited Kingdom with 922.0 Customers.\n"
          ]
        }
      ],
      "source": [
        "preferred_customer_counts = orders[orders[\"CustomerID\"].isin(preferred_customers.index)].groupby(\"Country\")[\"CustomerID\"].nunique()\n",
        "\n",
        "country_with_most_both = vip_customer_counts.idxmax() + preferred_customer_counts.idxmax()\n",
        "num_both_in_country = (vip_customer_counts + preferred_customer_counts).max()\n",
        "\n",
        "print(f\"The country with the most VIP+Preferred Customers is {country_with_most_both} with {num_both_in_country} Customers.\")"
      ]
    },
    {
      "cell_type": "code",
      "source": [],
      "metadata": {
        "id": "aw57GYZI-Qx9"
      },
      "execution_count": null,
      "outputs": []
    }
  ],
  "metadata": {
    "kernelspec": {
      "display_name": "Python 3",
      "language": "python",
      "name": "python3"
    },
    "language_info": {
      "codemirror_mode": {
        "name": "ipython",
        "version": 3
      },
      "file_extension": ".py",
      "mimetype": "text/x-python",
      "name": "python",
      "nbconvert_exporter": "python",
      "pygments_lexer": "ipython3",
      "version": "3.6.9"
    },
    "colab": {
      "provenance": []
    }
  },
  "nbformat": 4,
  "nbformat_minor": 0
}