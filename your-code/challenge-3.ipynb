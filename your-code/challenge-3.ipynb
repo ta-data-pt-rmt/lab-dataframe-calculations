{
 "cells": [
  {
   "cell_type": "markdown",
   "metadata": {},
   "source": [
    "# Challenge 3\n",
    "\n",
    "In this challenge we will work on the `Orders` data set. In your work you will apply the thinking process and workflow we showed you in Challenge 2.\n",
    "\n",
    "You are serving as a Business Intelligence Analyst at the headquarter of an international fashion goods chain store. Your boss today asked you to do two things for her:\n",
    "\n",
    "**First, identify two groups of customers from the data set.** The first group is **VIP Customers** whose **aggregated expenses** at your global chain stores are **above the 95th percentile** (aka. 0.95 quantile). The second group is **Preferred Customers** whose **aggregated expenses** are **between the 75th and 95th percentile**.\n",
    "\n",
    "**Second, identify which country has the most of your VIP customers, and which country has the most of your VIP+Preferred Customers combined.**"
   ]
  },
  {
   "cell_type": "markdown",
   "metadata": {},
   "source": [
    "## Q1: How to identify VIP & Preferred Customers?\n",
    "\n",
    "We start by importing all the required libraries:"
   ]
  },
  {
   "cell_type": "code",
   "execution_count": 1,
   "metadata": {},
   "outputs": [],
   "source": [
    "# import required libraries\n",
    "import numpy as np\n",
    "import pandas as pd"
   ]
  },
  {
   "cell_type": "markdown",
   "metadata": {},
   "source": [
    "Next, extract and import `Orders` dataset into a dataframe variable called `orders`. Print the head of `orders` to overview the data:"
   ]
  },
  {
   "cell_type": "code",
   "execution_count": 2,
   "metadata": {},
   "outputs": [
    {
     "data": {
      "text/html": [
       "<div>\n",
       "<style scoped>\n",
       "    .dataframe tbody tr th:only-of-type {\n",
       "        vertical-align: middle;\n",
       "    }\n",
       "\n",
       "    .dataframe tbody tr th {\n",
       "        vertical-align: top;\n",
       "    }\n",
       "\n",
       "    .dataframe thead th {\n",
       "        text-align: right;\n",
       "    }\n",
       "</style>\n",
       "<table border=\"1\" class=\"dataframe\">\n",
       "  <thead>\n",
       "    <tr style=\"text-align: right;\">\n",
       "      <th></th>\n",
       "      <th>Unnamed: 0</th>\n",
       "      <th>InvoiceNo</th>\n",
       "      <th>StockCode</th>\n",
       "      <th>year</th>\n",
       "      <th>month</th>\n",
       "      <th>day</th>\n",
       "      <th>hour</th>\n",
       "      <th>Description</th>\n",
       "      <th>Quantity</th>\n",
       "      <th>InvoiceDate</th>\n",
       "      <th>UnitPrice</th>\n",
       "      <th>CustomerID</th>\n",
       "      <th>Country</th>\n",
       "      <th>amount_spent</th>\n",
       "    </tr>\n",
       "  </thead>\n",
       "  <tbody>\n",
       "    <tr>\n",
       "      <th>0</th>\n",
       "      <td>0</td>\n",
       "      <td>536365</td>\n",
       "      <td>85123A</td>\n",
       "      <td>2010</td>\n",
       "      <td>12</td>\n",
       "      <td>3</td>\n",
       "      <td>8</td>\n",
       "      <td>white hanging heart t-light holder</td>\n",
       "      <td>6</td>\n",
       "      <td>2010-12-01 08:26:00</td>\n",
       "      <td>2.55</td>\n",
       "      <td>17850</td>\n",
       "      <td>United Kingdom</td>\n",
       "      <td>15.30</td>\n",
       "    </tr>\n",
       "    <tr>\n",
       "      <th>1</th>\n",
       "      <td>1</td>\n",
       "      <td>536365</td>\n",
       "      <td>71053</td>\n",
       "      <td>2010</td>\n",
       "      <td>12</td>\n",
       "      <td>3</td>\n",
       "      <td>8</td>\n",
       "      <td>white metal lantern</td>\n",
       "      <td>6</td>\n",
       "      <td>2010-12-01 08:26:00</td>\n",
       "      <td>3.39</td>\n",
       "      <td>17850</td>\n",
       "      <td>United Kingdom</td>\n",
       "      <td>20.34</td>\n",
       "    </tr>\n",
       "    <tr>\n",
       "      <th>2</th>\n",
       "      <td>2</td>\n",
       "      <td>536365</td>\n",
       "      <td>84406B</td>\n",
       "      <td>2010</td>\n",
       "      <td>12</td>\n",
       "      <td>3</td>\n",
       "      <td>8</td>\n",
       "      <td>cream cupid hearts coat hanger</td>\n",
       "      <td>8</td>\n",
       "      <td>2010-12-01 08:26:00</td>\n",
       "      <td>2.75</td>\n",
       "      <td>17850</td>\n",
       "      <td>United Kingdom</td>\n",
       "      <td>22.00</td>\n",
       "    </tr>\n",
       "    <tr>\n",
       "      <th>3</th>\n",
       "      <td>3</td>\n",
       "      <td>536365</td>\n",
       "      <td>84029G</td>\n",
       "      <td>2010</td>\n",
       "      <td>12</td>\n",
       "      <td>3</td>\n",
       "      <td>8</td>\n",
       "      <td>knitted union flag hot water bottle</td>\n",
       "      <td>6</td>\n",
       "      <td>2010-12-01 08:26:00</td>\n",
       "      <td>3.39</td>\n",
       "      <td>17850</td>\n",
       "      <td>United Kingdom</td>\n",
       "      <td>20.34</td>\n",
       "    </tr>\n",
       "    <tr>\n",
       "      <th>4</th>\n",
       "      <td>4</td>\n",
       "      <td>536365</td>\n",
       "      <td>84029E</td>\n",
       "      <td>2010</td>\n",
       "      <td>12</td>\n",
       "      <td>3</td>\n",
       "      <td>8</td>\n",
       "      <td>red woolly hottie white heart.</td>\n",
       "      <td>6</td>\n",
       "      <td>2010-12-01 08:26:00</td>\n",
       "      <td>3.39</td>\n",
       "      <td>17850</td>\n",
       "      <td>United Kingdom</td>\n",
       "      <td>20.34</td>\n",
       "    </tr>\n",
       "  </tbody>\n",
       "</table>\n",
       "</div>"
      ],
      "text/plain": [
       "   Unnamed: 0  InvoiceNo StockCode  year  month  day  hour  \\\n",
       "0           0     536365    85123A  2010     12    3     8   \n",
       "1           1     536365     71053  2010     12    3     8   \n",
       "2           2     536365    84406B  2010     12    3     8   \n",
       "3           3     536365    84029G  2010     12    3     8   \n",
       "4           4     536365    84029E  2010     12    3     8   \n",
       "\n",
       "                           Description  Quantity          InvoiceDate  \\\n",
       "0   white hanging heart t-light holder         6  2010-12-01 08:26:00   \n",
       "1                  white metal lantern         6  2010-12-01 08:26:00   \n",
       "2       cream cupid hearts coat hanger         8  2010-12-01 08:26:00   \n",
       "3  knitted union flag hot water bottle         6  2010-12-01 08:26:00   \n",
       "4       red woolly hottie white heart.         6  2010-12-01 08:26:00   \n",
       "\n",
       "   UnitPrice  CustomerID         Country  amount_spent  \n",
       "0       2.55       17850  United Kingdom         15.30  \n",
       "1       3.39       17850  United Kingdom         20.34  \n",
       "2       2.75       17850  United Kingdom         22.00  \n",
       "3       3.39       17850  United Kingdom         20.34  \n",
       "4       3.39       17850  United Kingdom         20.34  "
      ]
     },
     "metadata": {},
     "output_type": "display_data"
    }
   ],
   "source": [
    "# your code here\n",
    "orders = pd.read_csv('Orders/Orders.csv')\n",
    "display(orders.head())"
   ]
  },
  {
   "cell_type": "markdown",
   "metadata": {},
   "source": [
    "---\n",
    "\n",
    "\"Identify VIP and Preferred Customers\" is the non-technical goal of your boss. You need to translate that goal into technical languages that data analysts use:\n",
    "\n",
    "## How to label customers whose aggregated `amount_spent` is in a given quantile range?\n"
   ]
  },
  {
   "cell_type": "markdown",
   "metadata": {},
   "source": [
    "We break down the main problem into several sub problems:\n",
    "\n",
    "#### Sub Problem 1: How to aggregate the  `amount_spent` for unique customers?\n",
    "\n",
    "#### Sub Problem 2: How to select customers whose aggregated `amount_spent` is in a given quantile range?\n",
    "\n",
    "#### Sub Problem 3: How to label selected customers as \"VIP\" or \"Preferred\"?\n",
    "\n",
    "*Note: If you want to break down the main problem in a different way, please feel free to revise the sub problems above.*\n",
    "\n",
    "Now in the workspace below, tackle each of the sub problems using the iterative problem solving workflow. Insert cells as necessary to write your codes and explain your steps."
   ]
  },
  {
   "cell_type": "code",
   "execution_count": 3,
   "metadata": {},
   "outputs": [
    {
     "name": "stdout",
     "output_type": "stream",
     "text": [
      "   CustomerID  amount_spent\n",
      "0       12346      77183.60\n",
      "1       12347       4310.00\n",
      "2       12348       1797.24\n",
      "3       12349       1757.55\n",
      "4       12350        334.40\n"
     ]
    }
   ],
   "source": [
    "# your code here\n",
    "\n",
    "# Group the data by 'customer_id' and calculate the sum of 'amount_spent' for each customer\n",
    "customer_total_spent = orders.groupby('CustomerID')['amount_spent'].sum()\n",
    "\n",
    "# Convert the result to a DataFrame for better readability if needed\n",
    "customer_total_spent = customer_total_spent.reset_index()\n",
    "\n",
    "print(customer_total_spent.head())"
   ]
  },
  {
   "cell_type": "code",
   "execution_count": 4,
   "metadata": {},
   "outputs": [],
   "source": [
    "# Define the lower and upper quantile values for your range\n",
    "preferred_customers_quantiles = (0.75, 0.95)  \n",
    "vip_customers_quantile = 0.95 \n",
    "\n",
    "# Calculate the lower and upper bounds based on the quantile range\n",
    "lower_bound = customer_total_spent['amount_spent'].quantile(preferred_customers_quantiles[0])\n",
    "upper_bound = customer_total_spent['amount_spent'].quantile(preferred_customers_quantiles[1])\n",
    "\n"
   ]
  },
  {
   "cell_type": "code",
   "execution_count": 5,
   "metadata": {},
   "outputs": [
    {
     "name": "stdout",
     "output_type": "stream",
     "text": [
      "      CustomerID  amount_spent customer_type\n",
      "0          12346      77183.60     Preferred\n",
      "1          12347       4310.00           VIP\n",
      "2          12348       1797.24           VIP\n",
      "3          12349       1757.55           VIP\n",
      "4          12350        334.40     Preferred\n",
      "...          ...           ...           ...\n",
      "4334       18280        180.60     Preferred\n",
      "4335       18281         80.82     Preferred\n",
      "4336       18282        178.05     Preferred\n",
      "4337       18283       2094.88           VIP\n",
      "4338       18287       1837.28           VIP\n",
      "\n",
      "[4339 rows x 3 columns]\n"
     ]
    }
   ],
   "source": [
    "# Select customers whose aggregated amount_spent is within the quantile range and label them as \"Preferred\" / \"VIP\"\n",
    "customer_total_spent['customer_type'] = 'Preferred'\n",
    "customer_total_spent.loc[\n",
    "    (customer_total_spent['amount_spent'] >= lower_bound) &\n",
    "    (customer_total_spent['amount_spent'] <= upper_bound), 'customer_type'] = 'VIP'\n",
    "\n",
    "# Display the labeled customers\n",
    "print(customer_total_spent)\n",
    "\n",
    "# Define VIP customers in the 'orders' DataFrame as those exceeding the 95th percentile\n",
    "vip_customers = orders[orders['amount_spent'] > orders['amount_spent'].quantile(vip_customers_quantile)]\n",
    "\n",
    "\n"
   ]
  },
  {
   "cell_type": "markdown",
   "metadata": {},
   "source": [
    "Now we'll leave it to you to solve Q2 & Q3, which you can leverage from your solution for Q1:\n",
    "\n",
    "## Q2: How to identify which country has the most VIP Customers?"
   ]
  },
  {
   "cell_type": "code",
   "execution_count": 6,
   "metadata": {},
   "outputs": [
    {
     "name": "stdout",
     "output_type": "stream",
     "text": [
      "Country with the most VIP customers: United Kingdom\n"
     ]
    }
   ],
   "source": [
    "orders = pd.merge(orders, customer_total_spent[['CustomerID', 'customer_type']], on='CustomerID', how='left')\n",
    "\n",
    "# Filter the DataFrame to select only VIP customers\n",
    "vip_customers = orders[orders['customer_type'] == 'VIP']\n",
    "\n",
    "# Group the VIP customers by 'Country' and count the number of VIP customers in each country\n",
    "country_with_most_vip_customers = vip_customers.groupby('Country')['CustomerID'].count().idxmax()\n",
    "\n",
    "# Print the country with the most VIP customers\n",
    "print(\"Country with the most VIP customers:\", country_with_most_vip_customers)\n",
    "\n",
    "\n"
   ]
  },
  {
   "cell_type": "markdown",
   "metadata": {},
   "source": [
    "## Q3: How to identify which country has the most VIP+Preferred Customers combined?"
   ]
  },
  {
   "cell_type": "code",
   "execution_count": 7,
   "metadata": {},
   "outputs": [
    {
     "name": "stdout",
     "output_type": "stream",
     "text": [
      "Country with the most VIP+Preferred Customers combined: United Kingdom\n"
     ]
    }
   ],
   "source": [
    "# Filter the DataFrame to select only VIP and Preferred customers\n",
    "combined_customers = orders[(orders['customer_type'] == 'VIP') | (orders['customer_type'] == 'Preferred')]\n",
    "\n",
    "# Group the combined customers by 'Country' and count the number of VIP and Preferred customers in each country\n",
    "combined_customers_by_country = combined_customers.groupby(['Country', 'customer_type'])['CustomerID'].count().unstack(fill_value=0)\n",
    "\n",
    "# Sum the counts of VIP and Preferred customers to get the combined count\n",
    "combined_customers_by_country['Combined'] = combined_customers_by_country['VIP'] + combined_customers_by_country['Preferred']\n",
    "\n",
    "# Find the country with the most combined VIP and Preferred customers\n",
    "country_with_most_combined_customers = combined_customers_by_country['Combined'].idxmax()\n",
    "\n",
    "# Print the country with the most combined VIP and Preferred customers\n",
    "print(\"Country with the most VIP+Preferred Customers combined:\", country_with_most_combined_customers)\n",
    "\n",
    "\n"
   ]
  },
  {
   "cell_type": "code",
   "execution_count": 17,
   "metadata": {},
   "outputs": [
    {
     "name": "stdout",
     "output_type": "stream",
     "text": [
      "                 Country   TotalSpent\n",
      "35        United Kingdom  7308391.554\n",
      "23           Netherlands   285446.340\n",
      "10                  EIRE   265545.900\n",
      "14               Germany   228867.140\n",
      "13                France   209024.050\n",
      "0              Australia   138521.310\n",
      "30                 Spain    61577.110\n",
      "32           Switzerland    56443.950\n",
      "3                Belgium    41196.340\n",
      "31                Sweden    38378.330\n",
      "19                 Japan    37416.370\n",
      "24                Norway    36165.440\n",
      "26              Portugal    33439.890\n",
      "12               Finland    22546.080\n",
      "29             Singapore    21279.290\n",
      "6        Channel Islands    20450.440\n",
      "9                Denmark    18955.340\n",
      "18                 Italy    17483.240\n",
      "7                 Cyprus    13590.380\n",
      "1                Austria    10198.680\n",
      "25                Poland     7334.650\n",
      "17                Israel     7221.690\n",
      "15                Greece     4760.520\n",
      "16               Iceland     4310.000\n",
      "5                 Canada     3666.380\n",
      "33                   USA     3580.390\n",
      "22                 Malta     2725.590\n",
      "36           Unspecified     2667.070\n",
      "34  United Arab Emirates     1902.280\n",
      "20               Lebanon     1693.880\n",
      "21             Lithuania     1661.060\n",
      "11    European Community     1300.250\n",
      "4                 Brazil     1143.600\n",
      "27                   RSA     1002.310\n",
      "8         Czech Republic      826.740\n",
      "2                Bahrain      548.400\n",
      "28          Saudi Arabia      145.920\n"
     ]
    }
   ],
   "source": [
    "# Checking if United Kingdom was the first Country with the hightest amount spent\n",
    "country_total_spent = orders.groupby('Country')['amount_spent'].sum()\n",
    "country_total_spent_df = country_total_spent.reset_index()\n",
    "country_total_spent_df.columns = ['Country', 'TotalSpent']\n",
    "\n",
    "country_total_spent_df = country_total_spent_df.sort_values(by='TotalSpent', ascending=False)\n",
    "\n",
    "\n",
    "# Display the DataFrame\n",
    "print(country_total_spent_df)\n"
   ]
  },
  {
   "cell_type": "code",
   "execution_count": null,
   "metadata": {},
   "outputs": [],
   "source": []
  }
 ],
 "metadata": {
  "kernelspec": {
   "display_name": "Python 3",
   "language": "python",
   "name": "python3"
  },
  "language_info": {
   "codemirror_mode": {
    "name": "ipython",
    "version": 3
   },
   "file_extension": ".py",
   "mimetype": "text/x-python",
   "name": "python",
   "nbconvert_exporter": "python",
   "pygments_lexer": "ipython3",
   "version": "3.11.4"
  }
 },
 "nbformat": 4,
 "nbformat_minor": 2
}
