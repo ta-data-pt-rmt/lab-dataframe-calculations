{
 "cells": [
  {
   "cell_type": "markdown",
   "metadata": {},
   "source": [
    "# Challenge 3\n",
    "\n",
    "In this challenge we will work on the `Orders` data set. In your work you will apply the thinking process and workflow we showed you in Challenge 2.\n",
    "\n",
    "You are serving as a Business Intelligence Analyst at the headquarter of an international fashion goods chain store. Your boss today asked you to do two things for her:\n",
    "\n",
    "**First, identify two groups of customers from the data set.** The first group is **VIP Customers** whose **aggregated expenses** at your global chain stores are **above the 95th percentile** (aka. 0.95 quantile). The second group is **Preferred Customers** whose **aggregated expenses** are **between the 75th and 95th percentile**.\n",
    "\n",
    "**Second, identify which country has the most of your VIP customers, and which country has the most of your VIP+Preferred Customers combined.**"
   ]
  },
  {
   "cell_type": "markdown",
   "metadata": {},
   "source": [
    "## Q1: How to identify VIP & Preferred Customers?\n",
    "\n",
    "We start by importing all the required libraries:"
   ]
  },
  {
   "cell_type": "code",
   "execution_count": null,
   "metadata": {},
   "outputs": [],
   "source": [
    "import numpy as np\n",
    "import pandas as pd"
   ]
  },
  {
   "cell_type": "markdown",
   "metadata": {},
   "source": [
    "Next, extract and import `Orders` dataset into a dataframe variable called `orders`. Print the head of `orders` to overview the data:"
   ]
  },
  {
   "cell_type": "code",
   "execution_count": null,
   "metadata": {},
   "outputs": [],
   "source": [
    "orders = pd.read_csv('Orders.csv')\n",
    "\n",
    "orders.head()"
   ]
  },
  {
   "cell_type": "markdown",
   "metadata": {},
   "source": [
    "---\n",
    "\n",
    "\"Identify VIP and Preferred Customers\" is the non-technical goal of your boss. You need to translate that goal into technical languages that data analysts use:\n",
    "\n",
    "## How to label customers whose aggregated `amount_spent` is in a given quantile range?\n"
   ]
  },
  {
   "cell_type": "markdown",
   "metadata": {},
   "source": [
    "We break down the main problem into several sub problems:\n",
    "\n",
    "#### Sub Problem 1: How to aggregate the  `amount_spent` for unique customers?\n",
    "\n",
    "#### Sub Problem 2: How to select customers whose aggregated `amount_spent` is in a given quantile range?\n",
    "\n",
    "#### Sub Problem 3: How to label selected customers as \"VIP\" or \"Preferred\"?\n",
    "\n",
    "*Note: If you want to break down the main problem in a different way, please feel free to revise the sub problems above.*\n",
    "\n",
    "Now in the workspace below, tackle each of the sub problems using the iterative problem solving workflow. Insert cells as necessary to write your codes and explain your steps."
   ]
  },
  {
   "cell_type": "code",
   "execution_count": null,
   "metadata": {},
   "outputs": [],
   "source": [
    "# Sub Problem 1\n",
    "\n",
    "# Group by 'CustomerID' and aggregate (sum) 'amount_spent'\n",
    "customers_spent = orders.groupby('CustomerID')['amount_spent'].agg('sum').reset_index()\n",
    "\n",
    "customers_spent.head()"
   ]
  },
  {
   "cell_type": "code",
   "execution_count": null,
   "metadata": {},
   "outputs": [],
   "source": [
    "# Sub Problem 2\n",
    "\n",
    "# Select customer groups 'VIP', 'Preferred' by 'amount_spent' quantile range\n",
    "customers_vip = customers_spent[customers_spent['amount_spent'] > customers_spent['amount_spent'].quantile(0.95)]\n",
    "customers_pref = customers_spent[(customers_spent['amount_spent'] >= customers_spent['amount_spent'].quantile(0.75))\n",
    "                                 & (customers_spent['amount_spent'] <= customers_spent['amount_spent'].quantile(0.95))]\n",
    "\n",
    "display(customers_vip.sort_values(by = 'amount_spent'))\n",
    "display(customers_pref.sort_values(by = 'amount_spent'))"
   ]
  },
  {
   "cell_type": "code",
   "execution_count": null,
   "metadata": {},
   "outputs": [],
   "source": [
    "# Sub Problem 3\n",
    "\n",
    "# Label selected customers as 'VIP' or 'Preferred'\n",
    "customers_spent['CustomerLabel'] = pd.qcut(customers_spent['amount_spent'], [0, 0.75, 0.95, 1], labels = ['', 'Preferred', 'VIP'])\n",
    "\n",
    "customers_spent.head()"
   ]
  },
  {
   "cell_type": "markdown",
   "metadata": {},
   "source": [
    "Now we'll leave it to you to solve Q2 & Q3, which you can leverage from your solution for Q1:\n",
    "\n",
    "## Q2: How to identify which country has the most VIP Customers?"
   ]
  },
  {
   "cell_type": "code",
   "execution_count": null,
   "metadata": {},
   "outputs": [],
   "source": [
    "# Joining 'Country' to VIP customers\n",
    "country_vip = pd.merge(left = customers_vip,\n",
    "                       right = orders[['CustomerID', 'Country']],\n",
    "                       how = 'left',\n",
    "                       left_on = 'CustomerID',\n",
    "                       right_on = 'CustomerID')\n",
    "\n",
    "country_vip.drop_duplicates('CustomerID', inplace = True)\n",
    "\n",
    "country_vip['Country'].value_counts().head(1)"
   ]
  },
  {
   "cell_type": "markdown",
   "metadata": {},
   "source": [
    "## Q3: How to identify which country has the most VIP+Preferred Customers combined?"
   ]
  },
  {
   "cell_type": "code",
   "execution_count": null,
   "metadata": {},
   "outputs": [],
   "source": [
    "# Concatenating VIP + Preferred customers dfs\n",
    "customers_vip_pref = pd.concat([customers_vip, customers_pref])\n",
    "\n",
    "# Joining 'Country' to VIP/Preferred customers\n",
    "country_vip_pref = pd.merge(left = customers_vip_pref,\n",
    "                       right = orders[['CustomerID', 'Country']],\n",
    "                       how = 'left',\n",
    "                       left_on = 'CustomerID',\n",
    "                       right_on = 'CustomerID')\n",
    "\n",
    "country_vip_pref.drop_duplicates('CustomerID', inplace = True)\n",
    "\n",
    "country_vip_pref['Country'].value_counts().head(1)"
   ]
  }
 ],
 "metadata": {
  "kernelspec": {
   "display_name": "Python 3.9.12 ('base')",
   "language": "python",
   "name": "python3"
  },
  "language_info": {
   "codemirror_mode": {
    "name": "ipython",
    "version": 3
   },
   "file_extension": ".py",
   "mimetype": "text/x-python",
   "name": "python",
   "nbconvert_exporter": "python",
   "pygments_lexer": "ipython3",
   "version": "3.9.12"
  },
  "vscode": {
   "interpreter": {
    "hash": "3a677cc3a62f2d81855f233fae469a5f43f070d97a640d213221ee6c91be41b5"
   }
  }
 },
 "nbformat": 4,
 "nbformat_minor": 2
}
