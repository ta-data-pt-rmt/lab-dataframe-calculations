{
 "cells": [
  {
   "cell_type": "markdown",
   "metadata": {},
   "source": [
    "# Challenge 3\n",
    "\n",
    "In this challenge we will work on the `Orders` data set. In your work you will apply the thinking process and workflow we showed you in Challenge 2.\n",
    "\n",
    "You are serving as a Business Intelligence Analyst at the headquarter of an international fashion goods chain store. Your boss today asked you to do two things for her:\n",
    "\n",
    "**First, identify two groups of customers from the data set.** The first group is **VIP Customers** whose **aggregated expenses** at your global chain stores are **above the 95th percentile** (aka. 0.95 quantile). The second group is **Preferred Customers** whose **aggregated expenses** are **between the 75th and 95th percentile**.\n",
    "\n",
    "**Second, identify which country has the most of your VIP customers, and which country has the most of your VIP+Preferred Customers combined.**"
   ]
  },
  {
   "cell_type": "markdown",
   "metadata": {},
   "source": [
    "## Q1: How to identify VIP & Preferred Customers?\n",
    "\n",
    "We start by importing all the required libraries:"
   ]
  },
  {
   "cell_type": "code",
   "execution_count": 3,
   "metadata": {},
   "outputs": [],
   "source": [
    "import numpy as np\n",
    "import pandas as pd"
   ]
  },
  {
   "cell_type": "markdown",
   "metadata": {},
   "source": [
    "Next, extract and import `Orders` dataset into a dataframe variable called `orders`. Print the head of `orders` to overview the data:"
   ]
  },
  {
   "cell_type": "code",
   "execution_count": 4,
   "metadata": {},
   "outputs": [
    {
     "name": "stdout",
     "output_type": "stream",
     "text": [
      "   Unnamed: 0  InvoiceNo StockCode  year  month  day  hour  \\\n",
      "0           0     536365    85123A  2010     12    3     8   \n",
      "1           1     536365     71053  2010     12    3     8   \n",
      "2           2     536365    84406B  2010     12    3     8   \n",
      "3           3     536365    84029G  2010     12    3     8   \n",
      "4           4     536365    84029E  2010     12    3     8   \n",
      "\n",
      "                           Description  Quantity          InvoiceDate  \\\n",
      "0   white hanging heart t-light holder         6  2010-12-01 08:26:00   \n",
      "1                  white metal lantern         6  2010-12-01 08:26:00   \n",
      "2       cream cupid hearts coat hanger         8  2010-12-01 08:26:00   \n",
      "3  knitted union flag hot water bottle         6  2010-12-01 08:26:00   \n",
      "4       red woolly hottie white heart.         6  2010-12-01 08:26:00   \n",
      "\n",
      "   UnitPrice  CustomerID         Country  amount_spent  \n",
      "0       2.55       17850  United Kingdom         15.30  \n",
      "1       3.39       17850  United Kingdom         20.34  \n",
      "2       2.75       17850  United Kingdom         22.00  \n",
      "3       3.39       17850  United Kingdom         20.34  \n",
      "4       3.39       17850  United Kingdom         20.34  \n"
     ]
    }
   ],
   "source": [
    "orders = pd.read_csv(\"Orders.csv\")\n",
    "print(orders.head())"
   ]
  },
  {
   "cell_type": "markdown",
   "metadata": {},
   "source": [
    "---\n",
    "\n",
    "\"Identify VIP and Preferred Customers\" is the non-technical goal of your boss. You need to translate that goal into technical languages that data analysts use:\n",
    "\n",
    "## How to label customers whose aggregated `amount_spent` is in a given quantile range?\n"
   ]
  },
  {
   "cell_type": "markdown",
   "metadata": {},
   "source": [
    "We break down the main problem into several sub problems:\n",
    "\n",
    "#### Sub Problem 1: How to aggregate the  `amount_spent` for unique customers?\n",
    "\n",
    "#### Sub Problem 2: How to select customers whose aggregated `amount_spent` is in a given quantile range?\n",
    "\n",
    "#### Sub Problem 3: How to label selected customers as \"VIP\" or \"Preferred\"?\n",
    "\n",
    "*Note: If you want to break down the main problem in a different way, please feel free to revise the sub problems above.*\n",
    "\n",
    "Now in the workspace below, tackle each of the sub problems using the iterative problem solving workflow. Insert cells as necessary to write your codes and explain your steps."
   ]
  },
  {
   "cell_type": "code",
   "execution_count": 5,
   "metadata": {},
   "outputs": [
    {
     "name": "stdout",
     "output_type": "stream",
     "text": [
      "      CustomerID  amount_spent\n",
      "0          12346      77183.60\n",
      "1          12347       4310.00\n",
      "2          12348       1797.24\n",
      "3          12349       1757.55\n",
      "4          12350        334.40\n",
      "...          ...           ...\n",
      "4334       18280        180.60\n",
      "4335       18281         80.82\n",
      "4336       18282        178.05\n",
      "4337       18283       2094.88\n",
      "4338       18287       1837.28\n",
      "\n",
      "[4339 rows x 2 columns]\n"
     ]
    }
   ],
   "source": [
    "# Here, I have decided to create a new dataframe specifically to obtain the aggregated amount spent by each individual client.\n",
    "\n",
    "# New agg_amount_spent df:\n",
    "\n",
    "agg_amount_spent = orders.groupby('CustomerID')['amount_spent'].sum().reset_index()\n",
    "\n",
    "print(agg_amount_spent)\n",
    "\n"
   ]
  },
  {
   "cell_type": "code",
   "execution_count": 6,
   "metadata": {},
   "outputs": [
    {
     "name": "stdout",
     "output_type": "stream",
     "text": [
      "quantile    below_75  between_75_95  above_95\n",
      "CustomerID                                   \n",
      "12346              0              0         1\n",
      "12347              0              1         0\n",
      "12348              0              1         0\n",
      "12349              0              1         0\n",
      "12350              1              0         0\n",
      "...              ...            ...       ...\n",
      "18280              1              0         0\n",
      "18281              1              0         0\n",
      "18282              1              0         0\n",
      "18283              0              1         0\n",
      "18287              0              1         0\n",
      "\n",
      "[4339 rows x 3 columns]\n"
     ]
    }
   ],
   "source": [
    "import pandas as pd\n",
    "\n",
    "quantiles = [0, 0.75, 0.95, 1]\n",
    "\n",
    "agg_amount_spent['quantile'] = pd.qcut(agg_amount_spent['amount_spent'], q=quantiles, labels=['below_75', 'between_75_95', 'above_95'])\n",
    "\n",
    "quantile_counts = agg_amount_spent.groupby(['quantile', 'CustomerID']).size().unstack('quantile', fill_value=0)\n",
    "\n",
    "print(quantile_counts)\n",
    "\n",
    "\n"
   ]
  },
  {
   "cell_type": "code",
   "execution_count": 7,
   "metadata": {},
   "outputs": [
    {
     "name": "stdout",
     "output_type": "stream",
     "text": [
      "      CustomerID      Label\n",
      "0          12346        VIP\n",
      "1          12347  Preferred\n",
      "2          12348  Preferred\n",
      "3          12349  Preferred\n",
      "4          12350    Regular\n",
      "...          ...        ...\n",
      "4334       18280    Regular\n",
      "4335       18281    Regular\n",
      "4336       18282    Regular\n",
      "4337       18283  Preferred\n",
      "4338       18287  Preferred\n",
      "\n",
      "[4339 rows x 2 columns]\n"
     ]
    }
   ],
   "source": [
    "import pandas as pd\n",
    "\n",
    "quantile_counts = quantile_counts.reset_index()\n",
    "\n",
    "Labels = pd.DataFrame(index=quantile_counts.index)\n",
    "Labels['CustomerID'] = quantile_counts['CustomerID']\n",
    "\n",
    "def label_customer(row):\n",
    "    if row['below_75'] == 1:\n",
    "        return 'Regular'\n",
    "    elif row['between_75_95'] == 1:\n",
    "        return 'Preferred'\n",
    "    elif row['above_95'] == 1:\n",
    "        return 'VIP'\n",
    "    else:\n",
    "        return 'Unknown'\n",
    "\n",
    "Labels['Label'] = quantile_counts.apply(label_customer, axis=1)\n",
    "\n",
    "print(Labels)\n",
    "\n",
    "\n",
    "\n",
    "\n",
    "\n"
   ]
  },
  {
   "cell_type": "markdown",
   "metadata": {},
   "source": [
    "Now we'll leave it to you to solve Q2 & Q3, which you can leverage from your solution for Q1:\n",
    "\n",
    "## Q2: How to identify which country has the most VIP Customers?"
   ]
  },
  {
   "cell_type": "code",
   "execution_count": 11,
   "metadata": {},
   "outputs": [
    {
     "name": "stdout",
     "output_type": "stream",
     "text": [
      "   CustomerID         Country      Label\n",
      "0       17850  United Kingdom  Preferred\n",
      "1       17850  United Kingdom  Preferred\n",
      "2       17850  United Kingdom  Preferred\n",
      "3       17850  United Kingdom  Preferred\n",
      "4       17850  United Kingdom  Preferred\n",
      "\n",
      "The country with the most VIP customers is United Kingdom.\n"
     ]
    }
   ],
   "source": [
    "merged_df = pd.merge(orders, Labels, on='CustomerID')\n",
    "\n",
    "result_df = merged_df[['CustomerID', 'Country', 'Label']]\n",
    "\n",
    "print(result_df.head())\n",
    "\n",
    "print()\n",
    "\n",
    "vip_counts = result_df[result_df['Label'] == 'VIP'].groupby('Country').size()\n",
    "\n",
    "most_vip_country = vip_counts.idxmax()\n",
    "\n",
    "print(f\"The country with the most VIP customers is {most_vip_country}.\")\n",
    "\n"
   ]
  },
  {
   "cell_type": "markdown",
   "metadata": {},
   "source": [
    "## Q3: How to identify which country has the most VIP+Preferred Customers combined?"
   ]
  },
  {
   "cell_type": "code",
   "execution_count": 9,
   "metadata": {},
   "outputs": [
    {
     "name": "stdout",
     "output_type": "stream",
     "text": [
      "The country with the most VIP+Preferred Customers combined is United Kingdom.\n"
     ]
    }
   ],
   "source": [
    "top_counts = result_df[result_df['Label'].isin(['VIP', 'Preferred'])].groupby('Country').size()\n",
    "\n",
    "most_top_country = vip_counts.idxmax()\n",
    "\n",
    "print(f\"The country with the most VIP+Preferred Customers combined is {most_top_country}.\")"
   ]
  },
  {
   "cell_type": "code",
   "execution_count": null,
   "metadata": {},
   "outputs": [],
   "source": []
  },
  {
   "cell_type": "code",
   "execution_count": null,
   "metadata": {},
   "outputs": [],
   "source": []
  }
 ],
 "metadata": {
  "kernelspec": {
   "display_name": "Python 3 (ipykernel)",
   "language": "python",
   "name": "python3"
  },
  "language_info": {
   "codemirror_mode": {
    "name": "ipython",
    "version": 3
   },
   "file_extension": ".py",
   "mimetype": "text/x-python",
   "name": "python",
   "nbconvert_exporter": "python",
   "pygments_lexer": "ipython3",
   "version": "3.9.13"
  }
 },
 "nbformat": 4,
 "nbformat_minor": 2
}
